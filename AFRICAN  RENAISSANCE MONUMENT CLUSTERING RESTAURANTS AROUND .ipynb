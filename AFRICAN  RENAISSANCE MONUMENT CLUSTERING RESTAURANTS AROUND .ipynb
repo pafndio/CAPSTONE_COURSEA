{
 "cells": [
  {
   "cell_type": "markdown",
   "metadata": {},
   "source": [
    "**CLUSTERING RESTAURANTS AROUND AFRICAN  RENAISSANCE MONUMENT**"
   ]
  },
  {
   "cell_type": "markdown",
   "metadata": {},
   "source": [
    "**Introduction/Business Problem**"
   ]
  },
  {
   "cell_type": "markdown",
   "metadata": {},
   "source": [
    "*The monument is very attractive for all kind of tourists at very moment of the year. \n",
    "And just one restaurant is in it, so closest to the place. \n",
    "But around the monument lots of restaurants and some hotels are there. \n",
    "So it would be very interesting to know what are the closests restaurants around the monument, \n",
    "what are there menus(africain or european...etc.), the mean price of the products. \n",
    "For resolving this problem and helping the tourists or investissors,clustering with geospatial data will be applied.*"
   ]
  },
  {
   "cell_type": "markdown",
   "metadata": {},
   "source": [
    "**Data section**"
   ]
  },
  {
   "cell_type": "markdown",
   "metadata": {},
   "source": [
    "*The data to be used for this work are : \n",
    "    name of restaurant, \n",
    "    latitude/longitude, \n",
    "    distance between monument(in meters),\n",
    "    menus(africain, european, asian...etc),\n",
    "    mean price\n",
    "    comfort(stagged from 1 to 5)\n",
    "    hygien(stagged from 1 to 5)\n",
    "    clusters labels.*"
   ]
  },
  {
   "cell_type": "code",
   "execution_count": null,
   "metadata": {},
   "outputs": [],
   "source": []
  }
 ],
 "metadata": {
  "kernelspec": {
   "display_name": "Python",
   "language": "python",
   "name": "conda-env-python-py"
  },
  "language_info": {
   "codemirror_mode": {
    "name": "ipython",
    "version": 3
   },
   "file_extension": ".py",
   "mimetype": "text/x-python",
   "name": "python",
   "nbconvert_exporter": "python",
   "pygments_lexer": "ipython3",
   "version": "3.6.11"
  }
 },
 "nbformat": 4,
 "nbformat_minor": 4
}
